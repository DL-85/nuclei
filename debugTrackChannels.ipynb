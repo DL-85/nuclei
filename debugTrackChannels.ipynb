{
 "cells": [
  {
   "cell_type": "code",
   "execution_count": 1,
   "metadata": {},
   "outputs": [
    {
     "ename": "SyntaxError",
     "evalue": "invalid syntax (foci.py, line 25)",
     "output_type": "error",
     "traceback": [
      "Traceback \u001b[0;36m(most recent call last)\u001b[0m:\n",
      "  File \u001b[1;32m\"/usr/local/lib/python3.5/dist-packages/IPython/core/interactiveshell.py\"\u001b[0m, line \u001b[1;32m2910\u001b[0m, in \u001b[1;35mrun_code\u001b[0m\n    exec(code_obj, self.user_global_ns, self.user_ns)\n",
      "\u001b[0;36m  File \u001b[0;32m\"<ipython-input-1-6534628e8b7b>\"\u001b[0;36m, line \u001b[0;32m17\u001b[0;36m, in \u001b[0;35m<module>\u001b[0;36m\u001b[0m\n\u001b[0;31m    from nuclei.foci import *\u001b[0m\n",
      "\u001b[0;36m  File \u001b[0;32m\"/home/glaw/nuclei/nuclei/foci.py\"\u001b[0;36m, line \u001b[0;32m25\u001b[0m\n\u001b[0;31m    for i in range(length):\u001b[0m\n\u001b[0m                          ^\u001b[0m\n\u001b[0;31mSyntaxError\u001b[0m\u001b[0;31m:\u001b[0m invalid syntax\n"
     ]
    }
   ],
   "source": [
    "# Why does tracking miss some obvious green nuclei\n",
    "\n",
    "from __future__ import division, print_function\n",
    "from ipywidgets import interact, interactive, fixed, interact_manual    \n",
    "import ipywidgets as widgets\n",
    "%matplotlib inline\n",
    "import matplotlib.pyplot as plt\n",
    "import matplotlib\n",
    "import numpy as np\n",
    "import scipy as sp\n",
    "from scipy import ndimage\n",
    "from IPython.core.debugger import set_trace\n",
    "import cv2\n",
    "import sys\n",
    "from pprint import pprint\n",
    "from random import randint\n",
    "from nuclei.foci import *\n",
    "import nuclei.girder as g\n",
    "import nuclei.girder.time_lapse_data as reader\n",
    "\n",
    "plt.rcParams['image.cmap'] = 'gist_earth'\n",
    "matplotlib.rcParams['figure.figsize'] = (11.0, 11.0)\n",
    "\n",
    "\n",
    "# input parameters\n",
    "czi_folder_id = \"5ada43f41fbb9005ff7260eb\"\n",
    "series_idx = 5\n"
   ]
  },
  {
   "cell_type": "code",
   "execution_count": 2,
   "metadata": {},
   "outputs": [
    {
     "ename": "NameError",
     "evalue": "name 'reader' is not defined",
     "output_type": "error",
     "traceback": [
      "\u001b[0;31m---------------------------------------------------------------------------\u001b[0m",
      "\u001b[0;31mNameError\u001b[0m                                 Traceback (most recent call last)",
      "\u001b[0;32m<ipython-input-2-c78a516a67b8>\u001b[0m in \u001b[0;36m<module>\u001b[0;34m()\u001b[0m\n\u001b[1;32m      3\u001b[0m \u001b[0;34m\u001b[0m\u001b[0m\n\u001b[1;32m      4\u001b[0m \u001b[0;31m# Setup the reader.\u001b[0m\u001b[0;34m\u001b[0m\u001b[0;34m\u001b[0m\u001b[0m\n\u001b[0;32m----> 5\u001b[0;31m \u001b[0msource\u001b[0m \u001b[0;34m=\u001b[0m \u001b[0mreader\u001b[0m\u001b[0;34m.\u001b[0m\u001b[0mtime_lapse_data\u001b[0m\u001b[0;34m(\u001b[0m\u001b[0;34m)\u001b[0m\u001b[0;34m\u001b[0m\u001b[0m\n\u001b[0m\u001b[1;32m      6\u001b[0m \u001b[0msource\u001b[0m\u001b[0;34m.\u001b[0m\u001b[0mload\u001b[0m\u001b[0;34m(\u001b[0m\u001b[0mczi_folder_id\u001b[0m\u001b[0;34m)\u001b[0m\u001b[0;34m\u001b[0m\u001b[0m\n\u001b[1;32m      7\u001b[0m \u001b[0mnum_series\u001b[0m \u001b[0;34m=\u001b[0m \u001b[0msource\u001b[0m\u001b[0;34m.\u001b[0m\u001b[0mget_number_of_series\u001b[0m\u001b[0;34m(\u001b[0m\u001b[0;34m)\u001b[0m\u001b[0;34m\u001b[0m\u001b[0m\n",
      "\u001b[0;31mNameError\u001b[0m: name 'reader' is not defined"
     ]
    }
   ],
   "source": [
    "# This block sets up the reader of a czi folder.\n",
    "# it then detects rows in the brightfield channel of an image.\n",
    "\n",
    "# Setup the reader.\n",
    "source = reader.time_lapse_data()\n",
    "source.load(czi_folder_id) \n",
    "num_series = source.get_number_of_series()\n",
    "num_time_steps = source.get_series_length(series_idx)\n",
    "im, item_obj = source.get_image(series_idx,15) #0\n",
    "\n",
    "# detect rows of circles.\n",
    "rows = compute_rows(im)\n",
    "\n",
    "# draw the row as a santity check\n",
    "for row in rows:\n",
    "    cv2.line(im,(10,int(10*row[0]+row[1])),(2000,int(2000*row[0]+row[1])),(255,0,0),5)\n",
    "\n",
    "plt.imshow(im)\n"
   ]
  },
  {
   "cell_type": "code",
   "execution_count": 3,
   "metadata": {},
   "outputs": [
    {
     "ename": "NameError",
     "evalue": "name 'source' is not defined",
     "output_type": "error",
     "traceback": [
      "\u001b[0;31m---------------------------------------------------------------------------\u001b[0m",
      "\u001b[0;31mNameError\u001b[0m                                 Traceback (most recent call last)",
      "\u001b[0;32m<ipython-input-3-a772d1cf81be>\u001b[0m in \u001b[0;36m<module>\u001b[0;34m()\u001b[0m\n\u001b[1;32m      7\u001b[0m \u001b[0;34m\u001b[0m\u001b[0m\n\u001b[1;32m      8\u001b[0m \u001b[0;31m# Chain the lein segments so we get \"polylines\" as a series of points in arrays\u001b[0m\u001b[0;34m\u001b[0m\u001b[0;34m\u001b[0m\u001b[0m\n\u001b[0;32m----> 9\u001b[0;31m \u001b[0mimg1\u001b[0m\u001b[0;34m,\u001b[0m \u001b[0mimg_info\u001b[0m \u001b[0;34m=\u001b[0m \u001b[0msource\u001b[0m\u001b[0;34m.\u001b[0m\u001b[0mget_image\u001b[0m\u001b[0;34m(\u001b[0m\u001b[0mseries_idx\u001b[0m\u001b[0;34m,\u001b[0m\u001b[0;36m15\u001b[0m\u001b[0;34m)\u001b[0m\u001b[0;34m\u001b[0m\u001b[0m\n\u001b[0m\u001b[1;32m     10\u001b[0m \u001b[0mitem_ids\u001b[0m\u001b[0;34m.\u001b[0m\u001b[0mappend\u001b[0m\u001b[0;34m(\u001b[0m\u001b[0mimg_info\u001b[0m\u001b[0;34m[\u001b[0m\u001b[0;34m'_id'\u001b[0m\u001b[0;34m]\u001b[0m\u001b[0;34m)\u001b[0m\u001b[0;34m\u001b[0m\u001b[0m\n\u001b[1;32m     11\u001b[0m \u001b[0mimg_bw\u001b[0m \u001b[0;34m=\u001b[0m \u001b[0mimg1\u001b[0m\u001b[0;34m.\u001b[0m\u001b[0mcopy\u001b[0m\u001b[0;34m(\u001b[0m\u001b[0;34m)\u001b[0m\u001b[0;34m\u001b[0m\u001b[0m\n",
      "\u001b[0;31mNameError\u001b[0m: name 'source' is not defined"
     ]
    }
   ],
   "source": [
    "prev_frame_ellipses = None\n",
    "# union of all lines from all frames.\n",
    "# this will be an array of lines.  A line will be an array of points.  a point will be 3 (int, int, int)\n",
    "tracks = []\n",
    "# Save the image ids so we can upload the tracks to girder\n",
    "item_ids = []\n",
    "\n",
    "# Chain the lein segments so we get \"polylines\" as a series of points in arrays\n",
    "img1, img_info = source.get_image(series_idx,15)\n",
    "item_ids.append(img_info['_id'])\n",
    "img_bw = img1.copy()\n",
    "img_bw[:,:,0] = np.maximum(img1[:,:,1], img1[:,:,2])\n",
    "img_bw[:,:,1] = img_bw[:,:,0]\n",
    "img_bw[:,:,2] = img_bw[:,:,0]\n",
    "img1 = img_bw\n",
    "print(img1.shape)\n",
    "\n",
    "plt.imshow(img1)"
   ]
  },
  {
   "cell_type": "code",
   "execution_count": 9,
   "metadata": {},
   "outputs": [
    {
     "name": "stdout",
     "output_type": "stream",
     "text": [
      "777\n",
      "463\n",
      "94\n",
      "463\n"
     ]
    }
   ],
   "source": [
    "print(len(tracks))\n",
    "combined_tracks = []\n",
    "while len(tracks) > 0:\n",
    "    # Either we are finished merging track 1, or it gets merged with track2.\n",
    "    # Either way, it is removed from the list of tracks.\n",
    "    track1 = tracks.pop()\n",
    "    track2 = find_best_track_to_merge(track1, tracks, rows)\n",
    "    if track2 == None:\n",
    "        combined_tracks.append(track1)\n",
    "    else:\n",
    "        track2.merge_track(track1)\n",
    "\n",
    "print(len(combined_tracks))\n",
    "print(len(item_ids))\n",
    "\n",
    "print(len(combined_tracks))\n",
    "saved_tracks = combined_tracks"
   ]
  },
  {
   "cell_type": "code",
   "execution_count": 10,
   "metadata": {},
   "outputs": [],
   "source": [
    "# Save the tracks to the stack in the series folder.\n",
    "folder = source.get_series_folder(series_idx)\n",
    "g.upload_tracks_to_stack(combined_tracks, folder['_id'])"
   ]
  },
  {
   "cell_type": "code",
   "execution_count": null,
   "metadata": {},
   "outputs": [],
   "source": [
    "# save the tracks to the individual images.\n",
    "g.upload_tracks(combined_tracks, item_ids)"
   ]
  },
  {
   "cell_type": "code",
   "execution_count": 10,
   "metadata": {},
   "outputs": [],
   "source": [
    "# this block is legacy code to make a video\n",
    "\n",
    "def make_ellipse_mask(ellipse, time, gc, folder_id):\n",
    "    img, item_obj = source.get_image(series_idx,time)\n",
    "    black_img = np.zeros(img.shape, dtype=np.uint8)\n",
    "    cv2.ellipse(black_img, ellipse, (1,1,1), -1)\n",
    "    return(black_img)\n",
    "\n",
    "# This function writes out images for training.\n",
    "def save_tracking_video_frames(combined_tracks, source, series_idx, out_dir):\n",
    "    for track in combined_tracks:\n",
    "        for time in range(track.get_start_time()+1,track.get_end_time()):\n",
    "            print(time)\n",
    "            currentimg, _ = source.get_image(series_idx,time)\n",
    "            previmg, _ = source.get_image(series_idx,time-1)\n",
    "            prevellipse = track.get_ellipse_from_time(time-1)\n",
    "            if prevellipse != None:\n",
    "                # This uses data dir it will not work.\n",
    "                # TODO: fix it.\n",
    "                prevellipsemask = make_ellipse_mask(prevellipse,time-1,data_dir)\n",
    "                centx = int(prevellipse[0][0])\n",
    "                centy = int(prevellipse[0][1])\n",
    "                croppedcurrent = currentimg[centy-150:centy+150, centx-150:centx+150, :]\n",
    "                croppedprev = previmg[centy-150:centy+150, centx-150:centx+150, :]\n",
    "                croppedmask = prevellipsemask[centy-150:centy+150, centx-150:centx+150, :]\n",
    "                cv2.imwrite(out_dir + \"channel1time%dcurrent.png\"%time, croppedcurrent)\n",
    "                cv2.imwrite(out_dir + \"channel1time%dprev.png\"%time, croppedprev)\n",
    "                cv2.imwrite(out_dir + \"channel1time%dprevmask.png\"%time, croppedmask)\n",
    "\n",
    "\n",
    "        \n"
   ]
  },
  {
   "cell_type": "code",
   "execution_count": 4,
   "metadata": {},
   "outputs": [
    {
     "data": {
      "text/plain": [
       "'3.5.2 (default, Nov 23 2017, 16:37:01) \\n[GCC 5.4.0 20160609]'"
      ]
     },
     "execution_count": 4,
     "metadata": {},
     "output_type": "execute_result"
    }
   ],
   "source": [
    "import sys\n",
    "sys.version"
   ]
  },
  {
   "cell_type": "code",
   "execution_count": null,
   "metadata": {},
   "outputs": [],
   "source": []
  }
 ],
 "metadata": {
  "kernelspec": {
   "display_name": "Python 3",
   "language": "python",
   "name": "python3"
  },
  "language_info": {
   "codemirror_mode": {
    "name": "ipython",
    "version": 3
   },
   "file_extension": ".py",
   "mimetype": "text/x-python",
   "name": "python",
   "nbconvert_exporter": "python",
   "pygments_lexer": "ipython3",
   "version": "3.5.2"
  }
 },
 "nbformat": 4,
 "nbformat_minor": 2
}
